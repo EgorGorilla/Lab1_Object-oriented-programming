{
 "cells": [
  {
   "cell_type": "markdown",
   "id": "213d8bab-0c6f-422b-bf72-6f2a8388ec02",
   "metadata": {},
   "source": [
    "## 1. Объявление классов"
   ]
  },
  {
   "cell_type": "code",
   "execution_count": 3,
   "id": "a2e99260-85c6-4993-89dc-d0f917eed529",
   "metadata": {},
   "outputs": [],
   "source": [
    "class MyClass:\n",
    "    var = \"некоторая переменная\"  # переменная класса\n",
    "\n",
    "    def do_smt(self):\n",
    "        print(\"Какой-то метод сработал!\")\n",
    "        print(f\"Значение переменной: {self.var}\")"
   ]
  },
  {
   "cell_type": "markdown",
   "id": "b015b276-cee2-44a6-ae9a-10336cab457f",
   "metadata": {},
   "source": [
    "## 2. Атрибут класса"
   ]
  },
  {
   "cell_type": "code",
   "execution_count": 10,
   "id": "aa792c38-49bb-4229-9b74-e50d2d0c5c2b",
   "metadata": {},
   "outputs": [],
   "source": [
    "class Book:\n",
    "    material = \"paper\"\n",
    "    cover = \"paperback\"\n",
    "    all_books = []"
   ]
  },
  {
   "cell_type": "code",
   "execution_count": 16,
   "id": "d8e7b327-8a4e-4d99-9435-a96ac1ce6038",
   "metadata": {},
   "outputs": [
    {
     "data": {
      "text/plain": [
       "'paper'"
      ]
     },
     "execution_count": 16,
     "metadata": {},
     "output_type": "execute_result"
    }
   ],
   "source": [
    "Book.material "
   ]
  },
  {
   "cell_type": "code",
   "execution_count": 18,
   "id": "eabe4efb-5b6e-459d-9b03-ac0f73b292cb",
   "metadata": {},
   "outputs": [
    {
     "data": {
      "text/plain": [
       "'paperback'"
      ]
     },
     "execution_count": 18,
     "metadata": {},
     "output_type": "execute_result"
    }
   ],
   "source": [
    "Book.cover"
   ]
  },
  {
   "cell_type": "code",
   "execution_count": 20,
   "id": "cf999944-875f-47fc-8648-06661ac87677",
   "metadata": {},
   "outputs": [
    {
     "data": {
      "text/plain": [
       "[]"
      ]
     },
     "execution_count": 20,
     "metadata": {},
     "output_type": "execute_result"
    }
   ],
   "source": [
    "Book.all_books"
   ]
  },
  {
   "cell_type": "markdown",
   "id": "81f2fc3d-c1c8-4cea-9e80-6cec9989a2e5",
   "metadata": {},
   "source": [
    "## 3. Экземпляр класса"
   ]
  },
  {
   "cell_type": "code",
   "execution_count": 27,
   "id": "5dc8243a-945a-473f-8fe5-91c2116bd16b",
   "metadata": {},
   "outputs": [
    {
     "name": "stdout",
     "output_type": "stream",
     "text": [
      "paper\n"
     ]
    }
   ],
   "source": [
    "my_book = Book()\n",
    "print(my_book.material)"
   ]
  },
  {
   "cell_type": "markdown",
   "id": "4e7caca6-4fe0-4db2-b0aa-0a71405a7972",
   "metadata": {},
   "source": [
    "## 4. Метод \\_\\_init__()"
   ]
  },
  {
   "cell_type": "code",
   "execution_count": 39,
   "id": "522576f2-52ce-4ebb-9f3e-ae129090dda4",
   "metadata": {},
   "outputs": [
    {
     "name": "stdout",
     "output_type": "stream",
     "text": [
      "Волга\n",
      "Сена\n",
      "Нил\n"
     ]
    }
   ],
   "source": [
    "class River:\n",
    "    all_rivers = []\n",
    "\n",
    "    def __init__(self, name, length):\n",
    "        self.name = name\n",
    "        self.length = length\n",
    "        # добавляем текущую реку в список всех рек\n",
    "        River.all_rivers.append(self)\n",
    "\n",
    "volga = River(\"Волга\", 3530)\n",
    "seine = River(\"Сена\", 776)\n",
    "nile = River(\"Нил\", 6852)\n",
    "\n",
    "# далее печатаем все названия рек\n",
    "for river in River.all_rivers:\n",
    "    print(river.name)"
   ]
  },
  {
   "cell_type": "markdown",
   "id": "e41e98b3-a74f-4b76-b42d-37fecdf1f40e",
   "metadata": {},
   "source": [
    "## 5. Аргумент self"
   ]
  },
  {
   "cell_type": "code",
   "execution_count": 60,
   "id": "2e5fce9d-91e5-4b38-969c-3a8e0504f509",
   "metadata": {},
   "outputs": [],
   "source": [
    "class River:\n",
    "    all_rivers = []\n",
    "\n",
    "    def __init__(self, name, length):\n",
    "        self.name = name\n",
    "        self.length = length\n",
    "        River.all_rivers.append(self)\n",
    "\n",
    "    def get_info(self):\n",
    "        print(\"Длина {0} равна {1} км\".format(self.name, self.length))\n",
    "\n",
    "volga = River(\"Волга\", 3530)\n",
    "seine = River(\"Сена\", 776)\n",
    "nile = River(\"Нил\", 6852)"
   ]
  },
  {
   "cell_type": "code",
   "execution_count": 62,
   "id": "6d75d129-e946-4d9d-8363-d39e0e72af3b",
   "metadata": {},
   "outputs": [
    {
     "name": "stdout",
     "output_type": "stream",
     "text": [
      "Длина Волга равна 3530 км\n",
      "Длина Сена равна 776 км\n",
      "Длина Нил равна 6852 км\n"
     ]
    }
   ],
   "source": [
    "volga.get_info()\n",
    "seine.get_info()\n",
    "nile.get_info()"
   ]
  },
  {
   "cell_type": "markdown",
   "id": "dc9fda0a-44c9-4180-9e88-377c5c72a2e2",
   "metadata": {},
   "source": [
    "## 6. Изменение атрибутов"
   ]
  },
  {
   "cell_type": "code",
   "execution_count": 83,
   "id": "70f0cb5e-f231-4a7f-bc50-e9d592e12c68",
   "metadata": {},
   "outputs": [],
   "source": [
    "class Pet:\n",
    "    kind = \"mammal\"\n",
    "    n_pets = 0 # количество питомцев\n",
    "    pet_names = [] # список имен всех питомцев\n",
    "\n",
    "    def __init__(self, spec, name):\n",
    "        self.spec = spec\n",
    "        self.name = name\n",
    "        self.legs = 4\n",
    "\n",
    "tom = Pet(\"cat\", \"Tom\")\n",
    "avocado = Pet(\"dog\", \"Avocado\")\n",
    "ben = Pet(\"goldfish\", \"Benjamin\")"
   ]
  },
  {
   "cell_type": "code",
   "execution_count": 85,
   "id": "796ee3c5-1392-4247-9b0e-9409faa1d179",
   "metadata": {},
   "outputs": [
    {
     "name": "stdout",
     "output_type": "stream",
     "text": [
      "3\n",
      "3\n",
      "3\n",
      "3\n"
     ]
    }
   ],
   "source": [
    "# получим доступ к атрибуту класса напрямую через класс\n",
    "Pet.n_pets += 3 \n",
    "\n",
    "print(Pet.n_pets)\n",
    "print(tom.n_pets)\n",
    "print(avocado.n_pets)\n",
    "print(ben.n_pets)"
   ]
  },
  {
   "cell_type": "markdown",
   "id": "4f9a9314-a64f-4457-90b2-44d6e6cecd79",
   "metadata": {},
   "source": [
    "Если бы мы попытались изменить значение n_pets через экземпляры, то у нас бы ничего не получилось."
   ]
  },
  {
   "cell_type": "code",
   "execution_count": 88,
   "id": "a1f1228f-13f9-49c5-b8d5-7aa8dadc6391",
   "metadata": {},
   "outputs": [
    {
     "name": "stdout",
     "output_type": "stream",
     "text": [
      "mammal\n",
      "mammal\n",
      "mammal\n",
      "fish\n"
     ]
    }
   ],
   "source": [
    "ben.kind = \"fish\"\n",
    "\n",
    "print(Pet.kind)\n",
    "print(tom.kind)\n",
    "print(avocado.kind)\n",
    "print(ben.kind)"
   ]
  },
  {
   "cell_type": "markdown",
   "id": "8f283cea-77b9-44b7-a349-43dd27cdd509",
   "metadata": {},
   "source": [
    "## 7. Добавление атрибутов"
   ]
  },
  {
   "cell_type": "code",
   "execution_count": 91,
   "id": "aa93b6e9-4678-4862-80bd-da12a85eb5d1",
   "metadata": {},
   "outputs": [
    {
     "data": {
      "text/plain": [
       "['cat', 'dog', 'goldfish']"
      ]
     },
     "execution_count": 91,
     "metadata": {},
     "output_type": "execute_result"
    }
   ],
   "source": [
    "Pet.all_specs = [tom.spec, avocado.spec, ben.spec]\n",
    "\n",
    "tom.all_specs"
   ]
  },
  {
   "cell_type": "markdown",
   "id": "853bf9fd-9640-4982-aab8-581c5a3ea6a5",
   "metadata": {},
   "source": [
    "Так же можно создать атрибут для конкретного экземпляра"
   ]
  },
  {
   "cell_type": "code",
   "execution_count": 96,
   "id": "a4cdf69c-39dc-4050-b539-5c9173a9a13d",
   "metadata": {},
   "outputs": [
    {
     "data": {
      "text/plain": [
       "'corgi'"
      ]
     },
     "execution_count": 96,
     "metadata": {},
     "output_type": "execute_result"
    }
   ],
   "source": [
    "avocado.breed = \"corgi\"\n",
    "\n",
    "avocado.breed"
   ]
  },
  {
   "cell_type": "markdown",
   "id": "6113ab16-e986-469b-ab69-03a025b4559f",
   "metadata": {},
   "source": [
    "Другие экземляры класса Pet, а также самого класса не имеют этого атрибута, поэтому следующие строки кода могут вызывать ошибку:"
   ]
  },
  {
   "cell_type": "code",
   "execution_count": null,
   "id": "f8b60a81-af3e-4a58-a763-f010899697b0",
   "metadata": {},
   "outputs": [],
   "source": [
    "Pet.breed\n",
    "tom.breed\n",
    "ben.breed"
   ]
  },
  {
   "cell_type": "markdown",
   "id": "6051e1b5-08c3-40b1-ab4b-f0c6d9baa68c",
   "metadata": {},
   "source": [
    "## 8. Методы (синтаксис)"
   ]
  },
  {
   "cell_type": "code",
   "execution_count": 105,
   "id": "9302b84b-1a1f-434f-b3ea-1cae3481e01c",
   "metadata": {},
   "outputs": [],
   "source": [
    "class MyClass:\n",
    "    def __init__(self, arg1):\n",
    "        self.att = arg1  # атрибут экземпляра\n",
    "\n",
    "    def do_smt(self):\n",
    "        print(\"Значение атрибута:\", self.att)"
   ]
  },
  {
   "cell_type": "markdown",
   "id": "9f909734-5b61-425e-ab13-fb4dc7d57063",
   "metadata": {},
   "source": [
    "## 9. Методы и функции"
   ]
  },
  {
   "cell_type": "code",
   "execution_count": 108,
   "id": "77f64a39-3e25-49bd-b521-a925cb0b7933",
   "metadata": {},
   "outputs": [],
   "source": [
    "# класс и его метод\n",
    "class Ship:\n",
    "    def __init__(self, name, capacity):\n",
    "        self.name = name\n",
    "        self.capacity = capacity\n",
    "        self.cargo = 0\n",
    "\n",
    "    def sail(self):\n",
    "        print(\"{} has sailed!\".format(self.name))\n",
    "\n",
    "# функция\n",
    "def sail_function(name):\n",
    "    print(\"{} has sailed!\".format(name))"
   ]
  },
  {
   "cell_type": "code",
   "execution_count": 110,
   "id": "d9a1abf6-0e0f-4d4c-9107-2d01538df283",
   "metadata": {},
   "outputs": [
    {
     "name": "stdout",
     "output_type": "stream",
     "text": [
      "Black Pearl has sailed!\n"
     ]
    }
   ],
   "source": [
    "black_pearl = Ship(\"Black Pearl\", 800)\n",
    "black_pearl.sail()"
   ]
  },
  {
   "cell_type": "code",
   "execution_count": 112,
   "id": "19e2ec23-7431-484c-a629-fd2871acba43",
   "metadata": {},
   "outputs": [
    {
     "name": "stdout",
     "output_type": "stream",
     "text": [
      "Black Pearl has sailed!\n"
     ]
    }
   ],
   "source": [
    "sail_function(black_pearl.name)"
   ]
  },
  {
   "cell_type": "markdown",
   "id": "d1270eae-3700-46db-a105-b6ff7514602e",
   "metadata": {},
   "source": [
    "## 10. Создание атрибутов с помощью методов"
   ]
  },
  {
   "cell_type": "code",
   "execution_count": 130,
   "id": "1f2f20a4-36da-4c6c-a663-0c80dcc19815",
   "metadata": {},
   "outputs": [],
   "source": [
    "class Ship:\n",
    "    def __init__(self, name, capacity):\n",
    "        self.name = name\n",
    "        self.capacity = capacity\n",
    "        self.cargo = 0\n",
    "\n",
    "    def name_captain(self, cap):\n",
    "        self.captain = cap\n",
    "        print(\"{}  is the captain of the {}\".format(self.captain, self.name))"
   ]
  },
  {
   "cell_type": "code",
   "execution_count": 132,
   "id": "43c1705a-8390-4a67-bb49-68e7b9540d35",
   "metadata": {},
   "outputs": [
    {
     "name": "stdout",
     "output_type": "stream",
     "text": [
      "Jack Sparrow  is the captain of the Black Pearl\n",
      "Jack Sparrow\n"
     ]
    }
   ],
   "source": [
    "black_pearl = Ship(\"Black Pearl\", 800)\n",
    "black_pearl.name_captain(\"Jack Sparrow\")\n",
    "print(black_pearl.captain)"
   ]
  },
  {
   "cell_type": "markdown",
   "id": "1f56d385-efc2-4855-b394-bff125a1e750",
   "metadata": {},
   "source": [
    "## 11. Изменение атрибутов с помощью методов"
   ]
  },
  {
   "cell_type": "code",
   "execution_count": 138,
   "id": "79d4575e-e0c7-493d-ae99-f4dabfbec2fe",
   "metadata": {},
   "outputs": [],
   "source": [
    "class Ship:\n",
    "    def __init__(self, name, capacity):\n",
    "        self.name = name\n",
    "        self.capacity = capacity\n",
    "        self.cargo = 0\n",
    "\n",
    "    def load_cargo(self, weight):\n",
    "        if self.cargo + weight <= self.capacity:\n",
    "            self.cargo += weight\n",
    "            print(\"Loaded {} tons\".format(weight))\n",
    "        else:\n",
    "            print(\"Cannot load that much\")\n",
    "    def unload_cargo(self, weight):\n",
    "        if self.cargo - weight >= 0:\n",
    "            self.cargo -= weight\n",
    "            print(\"Unloaded {} tons\".format(weight))\n",
    "        else:\n",
    "            print(\"Cannot unload that much\")"
   ]
  },
  {
   "cell_type": "code",
   "execution_count": 142,
   "id": "90a17f99-5899-4209-b0d2-9386e5f7a680",
   "metadata": {},
   "outputs": [
    {
     "name": "stdout",
     "output_type": "stream",
     "text": [
      "Loaded 600 tons\n"
     ]
    }
   ],
   "source": [
    "black_pearl.load_cargo(600)"
   ]
  },
  {
   "cell_type": "code",
   "execution_count": 144,
   "id": "48b047c1-4103-42fb-b728-eaf7997b5a89",
   "metadata": {},
   "outputs": [
    {
     "name": "stdout",
     "output_type": "stream",
     "text": [
      "Unloaded 400 tons\n"
     ]
    }
   ],
   "source": [
    "black_pearl.unload_cargo(400)"
   ]
  },
  {
   "cell_type": "code",
   "execution_count": 150,
   "id": "245cc137-9f8a-4416-8d71-0ae14191018d",
   "metadata": {},
   "outputs": [
    {
     "name": "stdout",
     "output_type": "stream",
     "text": [
      "Cannot load that much\n"
     ]
    }
   ],
   "source": [
    "black_pearl.load_cargo(700)"
   ]
  },
  {
   "cell_type": "code",
   "execution_count": 152,
   "id": "e4f7ab1e-13c9-4393-b201-4437bbc130fc",
   "metadata": {},
   "outputs": [
    {
     "name": "stdout",
     "output_type": "stream",
     "text": [
      "Cannot unload that much\n"
     ]
    }
   ],
   "source": [
    "black_pearl.unload_cargo(3000)"
   ]
  },
  {
   "cell_type": "markdown",
   "id": "9e615c74-043d-4a6f-a8e1-5364d8d97eca",
   "metadata": {},
   "source": [
    "## 12. Уровни доступа атрибута и метода"
   ]
  },
  {
   "cell_type": "code",
   "execution_count": 3,
   "id": "0e61f652-2bec-49d3-8944-b3fa10cf1549",
   "metadata": {},
   "outputs": [],
   "source": [
    "class Rectangle:\n",
    "    def __init__(self, width, height):\n",
    "        self._width = width\n",
    "        self._height = height\n",
    "\n",
    "    def get_width(self):\n",
    "        return self._width\n",
    "\n",
    "    def set_width(self, w):\n",
    "        self._width = w\n",
    "\n",
    "    def get_height(self):\n",
    "        return self._height\n",
    "\n",
    "    def set_height(self, h):\n",
    "        self._height = h\n",
    "\n",
    "    def area(self):\n",
    "        return self._width * self._height"
   ]
  },
  {
   "cell_type": "code",
   "execution_count": 5,
   "id": "1eba063a-9361-4398-9448-479898254486",
   "metadata": {},
   "outputs": [
    {
     "data": {
      "text/plain": [
       "10"
      ]
     },
     "execution_count": 5,
     "metadata": {},
     "output_type": "execute_result"
    }
   ],
   "source": [
    "rect = Rectangle(10, 20)\n",
    "rect.get_width()"
   ]
  },
  {
   "cell_type": "code",
   "execution_count": 7,
   "id": "1662f59f-b436-4ee1-b236-b7ae57d059cb",
   "metadata": {},
   "outputs": [
    {
     "data": {
      "text/plain": [
       "10"
      ]
     },
     "execution_count": 7,
     "metadata": {},
     "output_type": "execute_result"
    }
   ],
   "source": [
    "rect._width"
   ]
  },
  {
   "cell_type": "markdown",
   "id": "067511c2-3144-424e-a804-57ac4e419741",
   "metadata": {},
   "source": [
    "Если же атрибут или метод начинается с двух подчеркиваний, то напрямую мы к нему уже не обратимся. Модифицируем наш класс Rectangle."
   ]
  },
  {
   "cell_type": "code",
   "execution_count": 15,
   "id": "2b807831-f8a8-46ed-a77f-d70f846f0a16",
   "metadata": {},
   "outputs": [],
   "source": [
    "class Rectangle:\n",
    "    def __init__(self, width, height):\n",
    "        self.__width = width\n",
    "        self.__height = height\n",
    "\n",
    "    def get_width(self):\n",
    "        return self.__width\n",
    "\n",
    "    def set_width(self, w):\n",
    "        self.__width = w\n",
    "\n",
    "    def get_height(self):\n",
    "        return self.__height\n",
    "\n",
    "    def set_height(self, h):\n",
    "        self.__height = h\n",
    "\n",
    "    def area(self):\n",
    "        return self.__width * self.__height"
   ]
  },
  {
   "cell_type": "markdown",
   "id": "a1ceb3c5-b15d-4c41-ab05-7e1d4ebb1999",
   "metadata": {},
   "source": [
    "Попытка обратится к __width напрямую вызовет ошибку, нужно работать только через get_width():"
   ]
  },
  {
   "cell_type": "code",
   "execution_count": 17,
   "id": "c3578bcf-7f7f-465e-aa90-b25dbb0d9c05",
   "metadata": {},
   "outputs": [
    {
     "data": {
      "text/plain": [
       "10"
      ]
     },
     "execution_count": 17,
     "metadata": {},
     "output_type": "execute_result"
    }
   ],
   "source": [
    "rect = Rectangle(10, 20)\n",
    "rect.get_width()"
   ]
  },
  {
   "cell_type": "markdown",
   "id": "c21b4771-e01e-4f68-959d-762a577ee216",
   "metadata": {},
   "source": [
    "## 13. Свойства"
   ]
  },
  {
   "cell_type": "markdown",
   "id": "fe815ad0-98f4-4cab-8272-1ceb2afffb4e",
   "metadata": {},
   "source": [
    "Сделаем реализацию класса Rectangle с использованием свойств:"
   ]
  },
  {
   "cell_type": "code",
   "execution_count": 23,
   "id": "2b75eb61-37f9-4f95-8caf-d0aaf58c89df",
   "metadata": {},
   "outputs": [],
   "source": [
    "class Rectangle:\n",
    "    def __init__(self, width, height):\n",
    "        self.__width = width\n",
    "        self.__height = height\n",
    "\n",
    "    @property\n",
    "    def width(self):\n",
    "        return self.__width\n",
    "\n",
    "    @width.setter\n",
    "    def width(self, w):\n",
    "        if w > 0:\n",
    "            self.__width = w\n",
    "        else:\n",
    "            raise ValueError\n",
    "\n",
    "    @property\n",
    "    def height(self):\n",
    "        return self.__height\n",
    "\n",
    "    @height.setter\n",
    "    def height(self, h):\n",
    "        if h > 0:\n",
    "            self.__height = h\n",
    "        else:\n",
    "            raise ValueError\n",
    "\n",
    "    def area(self):\n",
    "        return self.__width * self.__height"
   ]
  },
  {
   "cell_type": "markdown",
   "id": "14bf8c72-8882-4253-b9ef-f5aa59226258",
   "metadata": {},
   "source": [
    "Теперь работать с width и height можно так, как будто они являются атрибутами:"
   ]
  },
  {
   "cell_type": "code",
   "execution_count": 30,
   "id": "50fba778-7703-4599-ac34-dc7409386d8d",
   "metadata": {},
   "outputs": [
    {
     "data": {
      "text/plain": [
       "10"
      ]
     },
     "execution_count": 30,
     "metadata": {},
     "output_type": "execute_result"
    }
   ],
   "source": [
    "rect = Rectangle(10, 20)\n",
    "rect.width"
   ]
  },
  {
   "cell_type": "markdown",
   "id": "61af96da-368a-4469-ba0b-7221835cf9d9",
   "metadata": {},
   "source": [
    "Можно не только читать, но и задавать новые значения свойствам:"
   ]
  },
  {
   "cell_type": "code",
   "execution_count": 33,
   "id": "a1aa1c2b-48e1-4786-b6b9-da75b196f5ae",
   "metadata": {},
   "outputs": [
    {
     "data": {
      "text/plain": [
       "40"
      ]
     },
     "execution_count": 33,
     "metadata": {},
     "output_type": "execute_result"
    }
   ],
   "source": [
    "rect.width = 40\n",
    "rect.width"
   ]
  }
 ],
 "metadata": {
  "kernelspec": {
   "display_name": "Python [conda env:base] *",
   "language": "python",
   "name": "conda-base-py"
  },
  "language_info": {
   "codemirror_mode": {
    "name": "ipython",
    "version": 3
   },
   "file_extension": ".py",
   "mimetype": "text/x-python",
   "name": "python",
   "nbconvert_exporter": "python",
   "pygments_lexer": "ipython3",
   "version": "3.12.3"
  }
 },
 "nbformat": 4,
 "nbformat_minor": 5
}
